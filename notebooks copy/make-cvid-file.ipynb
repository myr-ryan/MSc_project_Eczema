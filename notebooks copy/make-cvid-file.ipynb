{
 "cells": [
  {
   "cell_type": "code",
   "execution_count": 1,
   "metadata": {},
   "outputs": [],
   "source": [
    "# This file is built for making cross validation file for severity prediction model"
   ]
  },
  {
   "cell_type": "code",
   "execution_count": 2,
   "metadata": {},
   "outputs": [],
   "source": [
    "import pandas as pd\n",
    "import numpy as np\n",
    "import random"
   ]
  },
  {
   "cell_type": "code",
   "execution_count": 4,
   "metadata": {},
   "outputs": [
    {
     "name": "stdout",
     "output_type": "stream",
     "text": [
      "2152\n",
      "1393\n",
      "2428\n",
      "308\n"
     ]
    },
    {
     "ename": "KeyboardInterrupt",
     "evalue": "",
     "output_type": "error",
     "traceback": [
      "\u001b[0;31m---------------------------------------------------------------------------\u001b[0m",
      "\u001b[0;31mKeyboardInterrupt\u001b[0m                         Traceback (most recent call last)",
      "\u001b[0;32m/var/tmp/pbs.5997723.pbs/ipykernel_1923575/623705678.py\u001b[0m in \u001b[0;36m<module>\u001b[0;34m\u001b[0m\n\u001b[1;32m     43\u001b[0m         \u001b[0;32mfor\u001b[0m \u001b[0mindex\u001b[0m \u001b[0;32min\u001b[0m \u001b[0mcv\u001b[0m\u001b[0;34m:\u001b[0m\u001b[0;34m\u001b[0m\u001b[0m\n\u001b[1;32m     44\u001b[0m     \u001b[0;31m#         print('Refno is: ', index)\u001b[0m\u001b[0;34m\u001b[0m\u001b[0;34m\u001b[0m\u001b[0m\n\u001b[0;32m---> 45\u001b[0;31m             \u001b[0mcrop_no\u001b[0m \u001b[0;34m+=\u001b[0m \u001b[0mauto_SWET_id\u001b[0m\u001b[0;34m.\u001b[0m\u001b[0mcount\u001b[0m\u001b[0;34m(\u001b[0m\u001b[0mindex\u001b[0m\u001b[0;34m)\u001b[0m \u001b[0;34m+\u001b[0m \u001b[0mauto_TLA_id\u001b[0m\u001b[0;34m.\u001b[0m\u001b[0mcount\u001b[0m\u001b[0;34m(\u001b[0m\u001b[0mindex\u001b[0m\u001b[0;34m)\u001b[0m \u001b[0;34m+\u001b[0m \u001b[0mmanual_TLA_id\u001b[0m\u001b[0;34m.\u001b[0m\u001b[0mcount\u001b[0m\u001b[0;34m(\u001b[0m\u001b[0mindex\u001b[0m\u001b[0;34m)\u001b[0m \u001b[0;34m+\u001b[0m \u001b[0mmanual_SWET_id\u001b[0m\u001b[0;34m.\u001b[0m\u001b[0mcount\u001b[0m\u001b[0;34m(\u001b[0m\u001b[0mindex\u001b[0m\u001b[0;34m)\u001b[0m\u001b[0;34m\u001b[0m\u001b[0m\n\u001b[0m\u001b[1;32m     46\u001b[0m \u001b[0;31m#         print(crop_no)\u001b[0m\u001b[0;34m\u001b[0m\u001b[0;34m\u001b[0m\u001b[0m\n\u001b[1;32m     47\u001b[0m         \u001b[0mcrop_no_list\u001b[0m\u001b[0;34m.\u001b[0m\u001b[0mappend\u001b[0m\u001b[0;34m(\u001b[0m\u001b[0mcrop_no\u001b[0m\u001b[0;34m)\u001b[0m\u001b[0;34m\u001b[0m\u001b[0m\n",
      "\u001b[0;31mKeyboardInterrupt\u001b[0m: "
     ]
    }
   ],
   "source": [
    "# These are the severity score files\n",
    "DATA_DIR = '/rds/general/user/ym521/home/EczemaNet-DeepLearning-Segmentation-master/data'\n",
    "auto_SWET = DATA_DIR + '/meta_skin_auto_data_SWET.csv'\n",
    "auto_TLA = DATA_DIR + '/meta_skin_auto_data_TLA.csv'\n",
    "manual_SWET = '/rds/general/user/ym521/projects/eczemanet/live/segmentation_images_ZW/skin_data/meta_data_skin_data.csv'\n",
    "manual_TLA = DATA_DIR + '/meta_skin_manual_data_TLA.csv'\n",
    "\n",
    "\n",
    "# These two csv files includes all ids\n",
    "id_TLA = DATA_DIR +'/mergedFile.csv'\n",
    "id_SWET = '/rds/general/user/ym521/projects/eczemanet/live/segmentation_images_ZW/skin_data/patient_cvid_skin_data.csv'\n",
    "\n",
    "# Note that 33 65 66 are the three ids that have no severity scores, this can be observed in mergedFile.csv\n",
    "id_list_TLA = list(set(pd.read_csv(id_TLA)['id'].tolist()) - set([33, 65, 66]))\n",
    "id_list_SWET = pd.read_csv(id_SWET)['refno'].tolist()\n",
    "\n",
    "auto_SWET_id = pd.read_csv(auto_SWET)['refno'].tolist()\n",
    "auto_TLA_id = pd.read_csv(auto_TLA)['refno'].tolist()\n",
    "manual_SWET_id = pd.read_csv(manual_SWET)['refno'].tolist()\n",
    "manual_TLA_id = pd.read_csv(manual_TLA)['refno'].tolist()\n",
    "\n",
    "print(len(auto_SWET_id))\n",
    "print(len(auto_TLA_id))\n",
    "print(len(manual_SWET_id))\n",
    "print(len(manual_TLA_id))\n",
    "\n",
    "id_list = id_list_TLA + id_list_SWET\n",
    "for seed in range(10000):\n",
    "    random.seed(seed)\n",
    "    random.shuffle(id_list)\n",
    "    # Length is 309\n",
    "    # print(len(id_list))\n",
    "\n",
    "    cvid = []\n",
    "    step = int(len(id_list) / 10) + 1\n",
    "    for i in range(0, len(id_list), step):\n",
    "        cvid.append(id_list[i: i + step])\n",
    "\n",
    "    # print(len(cvid))\n",
    "    crop_no_list = []\n",
    "    for cv in cvid:\n",
    "        crop_no = 0\n",
    "        for index in cv:\n",
    "    #         print('Refno is: ', index)\n",
    "            crop_no += auto_SWET_id.count(index) + auto_TLA_id.count(index) + manual_TLA_id.count(index) + manual_SWET_id.count(index)\n",
    "#         print(crop_no)\n",
    "        crop_no_list.append(crop_no)\n",
    "#     print(sum(crop_no_list))\n",
    "    if len(set(crop_no_list)) == 2:    \n",
    "        print(crop_no_list)\n",
    "        break\n",
    "\n",
    "\n"
   ]
  },
  {
   "cell_type": "code",
   "execution_count": null,
   "metadata": {},
   "outputs": [],
   "source": [
    "list_1 = [20,20,20,20,21]\n",
    "print(len(set(list_1)))"
   ]
  },
  {
   "cell_type": "code",
   "execution_count": null,
   "metadata": {},
   "outputs": [],
   "source": []
  }
 ],
 "metadata": {
  "kernelspec": {
   "display_name": "Python [conda env:SEG_DL]",
   "language": "python",
   "name": "conda-env-SEG_DL-py"
  },
  "language_info": {
   "codemirror_mode": {
    "name": "ipython",
    "version": 3
   },
   "file_extension": ".py",
   "mimetype": "text/x-python",
   "name": "python",
   "nbconvert_exporter": "python",
   "pygments_lexer": "ipython3",
   "version": "3.7.0"
  }
 },
 "nbformat": 4,
 "nbformat_minor": 2
}
