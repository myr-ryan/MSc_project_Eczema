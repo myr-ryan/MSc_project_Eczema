{
 "cells": [
  {
   "cell_type": "code",
   "execution_count": 7,
   "metadata": {},
   "outputs": [],
   "source": [
    "import os\n",
    "import cv2\n",
    "import numpy as np\n",
    "import csv"
   ]
  },
  {
   "cell_type": "code",
   "execution_count": 8,
   "metadata": {},
   "outputs": [],
   "source": [
    "def listdir_nohidden(path, is_train=True):\n",
    "    \"\"\"Generate a list contains all the non-hidden files in the given path,\n",
    "    this is to exclude system hidden files such as .DS_Store\n",
    "    - feature added: sort the list to prevent images and masks are not 1-to-1 corresponded.\n",
    "\n",
    "    # Arguments\n",
    "        path: directory to the image folder\n",
    "\n",
    "        is_train: boolean variable shows whether this function is used in model training\n",
    "\n",
    "    # Returns\n",
    "        return a sorted list which contains all the non-hidden files in the given path\n",
    "\n",
    "    \"\"\"\n",
    "    file_list = [file for file in os.listdir(path) if not file.startswith('.')]\n",
    "    # print('before', file_list)\n",
    "    if not is_train:\n",
    "#         print(\"??\")\n",
    "        if any(\"_aug\" in string for string in file_list):\n",
    "            file_list = [f.replace('_aug', '') for f in file_list]\n",
    "            file_list = sorted(file_list)\n",
    "            file_list = [f.replace('.png', '_aug.png') for f in file_list]\n",
    "#             print(\"aug detected!\")\n",
    "        else:\n",
    "            file_list = sorted(file_list)\n",
    "\n",
    "\n",
    "    return file_list"
   ]
  },
  {
   "cell_type": "code",
   "execution_count": 13,
   "metadata": {},
   "outputs": [
    {
     "name": "stdout",
     "output_type": "stream",
     "text": [
      "Done!\n"
     ]
    }
   ],
   "source": [
    "DATA_DIR = \"/rds/general/user/ym521/home/EczemaNet-DeepLearning-Segmentation-master/data/dataset_TLA\"\n",
    "TRAIN_DIR = os.path.join(DATA_DIR, \"training_set_TLA/reals\")\n",
    "VAL_DIR = os.path.join(DATA_DIR, \"validation_set_TLA/reals\")\n",
    "TEST_DIR = os.path.join(DATA_DIR, \"test_set_TLA/reals\")\n",
    "\n",
    "\n",
    "file_list = listdir_nohidden(TRAIN_DIR)\n",
    "\n",
    "shape_list = []\n",
    "for i in range(len(file_list)):\n",
    "    image = cv2.imread(os.path.join(TRAIN_DIR, file_list[i]))\n",
    "    shape_list.append((image.shape[0], image.shape[1]))\n",
    "    \n",
    "file_list = listdir_nohidden(VAL_DIR)\n",
    "for i in range(len(file_list)):\n",
    "    image = cv2.imread(os.path.join(VAL_DIR, file_list[i]))\n",
    "    shape_list.append((image.shape[0], image.shape[1]))\n",
    "    \n",
    "file_list =listdir_nohidden(TEST_DIR)\n",
    "for i in range(len(file_list)):\n",
    "    image = cv2.imread(os.path.join(TEST_DIR, file_list[i]))\n",
    "    shape_list.append((image.shape[0], image.shape[1]))\n",
    "\n",
    "# print(shape_list)\n",
    "shape_list_unique = set(shape_list)\n",
    "# print(shape_list_unique)\n",
    "# shape_count = {}\n",
    "\n",
    "with open(\"TLA_files.csv\", 'w', newline='') as file:\n",
    "    writer = csv.writer(file)\n",
    "    for i in shape_list_unique:\n",
    "#         shape_count.update({i: shape_list.count(i)})\n",
    "        writer.writerow([i, shape_list.count(i)])\n",
    "\n",
    "\n",
    "print('Done!')\n",
    "\n",
    "        \n",
    "#         writer.writerow([\"Reference file name\", \"Perturbation file name\", \"IoU\"])\n",
    "    \n",
    "\n",
    "\n",
    "\n"
   ]
  },
  {
   "cell_type": "code",
   "execution_count": null,
   "metadata": {},
   "outputs": [],
   "source": []
  }
 ],
 "metadata": {
  "kernelspec": {
   "display_name": "Python [conda env:SEG_DL]",
   "language": "python",
   "name": "conda-env-SEG_DL-py"
  },
  "language_info": {
   "codemirror_mode": {
    "name": "ipython",
    "version": 3
   },
   "file_extension": ".py",
   "mimetype": "text/x-python",
   "name": "python",
   "nbconvert_exporter": "python",
   "pygments_lexer": "ipython3",
   "version": "3.7.0"
  }
 },
 "nbformat": 4,
 "nbformat_minor": 2
}
